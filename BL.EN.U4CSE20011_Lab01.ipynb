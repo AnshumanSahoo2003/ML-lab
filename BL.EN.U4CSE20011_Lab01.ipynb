{
 "cells": [
  {
   "cell_type": "code",
   "execution_count": 1,
   "id": "2b5ca4e3",
   "metadata": {},
   "outputs": [],
   "source": [
    "import numpy as np\n",
    "import pandas as pd"
   ]
  },
  {
   "cell_type": "markdown",
   "id": "555b36ba",
   "metadata": {},
   "source": [
    "# A1"
   ]
  },
  {
   "cell_type": "code",
   "execution_count": 2,
   "id": "8a405ffd",
   "metadata": {},
   "outputs": [],
   "source": [
    "purchase_data = pd.read_csv(r'D:\\Amrita\\SEM 5\\ML\\Lab_1_features_data.csv')"
   ]
  },
  {
   "cell_type": "code",
   "execution_count": 3,
   "id": "60a9481f",
   "metadata": {},
   "outputs": [],
   "source": [
    "features_vals = purchase_data.iloc[:,1:4]\n",
    "target_vals = purchase_data.iloc[:,4:5]\n",
    "##AX=C"
   ]
  },
  {
   "cell_type": "code",
   "execution_count": 7,
   "id": "da61ccc1",
   "metadata": {},
   "outputs": [
    {
     "data": {
      "text/html": [
       "<div>\n",
       "<style scoped>\n",
       "    .dataframe tbody tr th:only-of-type {\n",
       "        vertical-align: middle;\n",
       "    }\n",
       "\n",
       "    .dataframe tbody tr th {\n",
       "        vertical-align: top;\n",
       "    }\n",
       "\n",
       "    .dataframe thead th {\n",
       "        text-align: right;\n",
       "    }\n",
       "</style>\n",
       "<table border=\"1\" class=\"dataframe\">\n",
       "  <thead>\n",
       "    <tr style=\"text-align: right;\">\n",
       "      <th></th>\n",
       "      <th>Candies (#)</th>\n",
       "      <th>Mangoes (Kg)</th>\n",
       "      <th>Milk Packets (#)</th>\n",
       "    </tr>\n",
       "  </thead>\n",
       "  <tbody>\n",
       "    <tr>\n",
       "      <th>0</th>\n",
       "      <td>20</td>\n",
       "      <td>6</td>\n",
       "      <td>2</td>\n",
       "    </tr>\n",
       "    <tr>\n",
       "      <th>1</th>\n",
       "      <td>16</td>\n",
       "      <td>3</td>\n",
       "      <td>6</td>\n",
       "    </tr>\n",
       "    <tr>\n",
       "      <th>2</th>\n",
       "      <td>27</td>\n",
       "      <td>6</td>\n",
       "      <td>2</td>\n",
       "    </tr>\n",
       "    <tr>\n",
       "      <th>3</th>\n",
       "      <td>19</td>\n",
       "      <td>1</td>\n",
       "      <td>2</td>\n",
       "    </tr>\n",
       "    <tr>\n",
       "      <th>4</th>\n",
       "      <td>24</td>\n",
       "      <td>4</td>\n",
       "      <td>2</td>\n",
       "    </tr>\n",
       "    <tr>\n",
       "      <th>5</th>\n",
       "      <td>22</td>\n",
       "      <td>1</td>\n",
       "      <td>5</td>\n",
       "    </tr>\n",
       "    <tr>\n",
       "      <th>6</th>\n",
       "      <td>15</td>\n",
       "      <td>4</td>\n",
       "      <td>2</td>\n",
       "    </tr>\n",
       "    <tr>\n",
       "      <th>7</th>\n",
       "      <td>18</td>\n",
       "      <td>4</td>\n",
       "      <td>2</td>\n",
       "    </tr>\n",
       "    <tr>\n",
       "      <th>8</th>\n",
       "      <td>21</td>\n",
       "      <td>1</td>\n",
       "      <td>4</td>\n",
       "    </tr>\n",
       "    <tr>\n",
       "      <th>9</th>\n",
       "      <td>16</td>\n",
       "      <td>2</td>\n",
       "      <td>4</td>\n",
       "    </tr>\n",
       "  </tbody>\n",
       "</table>\n",
       "</div>"
      ],
      "text/plain": [
       "   Candies (#)  Mangoes (Kg)  Milk Packets (#)\n",
       "0           20             6                 2\n",
       "1           16             3                 6\n",
       "2           27             6                 2\n",
       "3           19             1                 2\n",
       "4           24             4                 2\n",
       "5           22             1                 5\n",
       "6           15             4                 2\n",
       "7           18             4                 2\n",
       "8           21             1                 4\n",
       "9           16             2                 4"
      ]
     },
     "execution_count": 7,
     "metadata": {},
     "output_type": "execute_result"
    }
   ],
   "source": [
    "features_vals"
   ]
  },
  {
   "cell_type": "code",
   "execution_count": 8,
   "id": "3ffe2a9a",
   "metadata": {},
   "outputs": [
    {
     "data": {
      "text/html": [
       "<div>\n",
       "<style scoped>\n",
       "    .dataframe tbody tr th:only-of-type {\n",
       "        vertical-align: middle;\n",
       "    }\n",
       "\n",
       "    .dataframe tbody tr th {\n",
       "        vertical-align: top;\n",
       "    }\n",
       "\n",
       "    .dataframe thead th {\n",
       "        text-align: right;\n",
       "    }\n",
       "</style>\n",
       "<table border=\"1\" class=\"dataframe\">\n",
       "  <thead>\n",
       "    <tr style=\"text-align: right;\">\n",
       "      <th></th>\n",
       "      <th>Payment (Rs)</th>\n",
       "    </tr>\n",
       "  </thead>\n",
       "  <tbody>\n",
       "    <tr>\n",
       "      <th>0</th>\n",
       "      <td>386</td>\n",
       "    </tr>\n",
       "    <tr>\n",
       "      <th>1</th>\n",
       "      <td>289</td>\n",
       "    </tr>\n",
       "    <tr>\n",
       "      <th>2</th>\n",
       "      <td>393</td>\n",
       "    </tr>\n",
       "    <tr>\n",
       "      <th>3</th>\n",
       "      <td>110</td>\n",
       "    </tr>\n",
       "    <tr>\n",
       "      <th>4</th>\n",
       "      <td>280</td>\n",
       "    </tr>\n",
       "    <tr>\n",
       "      <th>5</th>\n",
       "      <td>167</td>\n",
       "    </tr>\n",
       "    <tr>\n",
       "      <th>6</th>\n",
       "      <td>271</td>\n",
       "    </tr>\n",
       "    <tr>\n",
       "      <th>7</th>\n",
       "      <td>274</td>\n",
       "    </tr>\n",
       "    <tr>\n",
       "      <th>8</th>\n",
       "      <td>148</td>\n",
       "    </tr>\n",
       "    <tr>\n",
       "      <th>9</th>\n",
       "      <td>198</td>\n",
       "    </tr>\n",
       "  </tbody>\n",
       "</table>\n",
       "</div>"
      ],
      "text/plain": [
       "   Payment (Rs)\n",
       "0           386\n",
       "1           289\n",
       "2           393\n",
       "3           110\n",
       "4           280\n",
       "5           167\n",
       "6           271\n",
       "7           274\n",
       "8           148\n",
       "9           198"
      ]
     },
     "execution_count": 8,
     "metadata": {},
     "output_type": "execute_result"
    }
   ],
   "source": [
    "target_vals"
   ]
  },
  {
   "cell_type": "code",
   "execution_count": 9,
   "id": "93528973",
   "metadata": {},
   "outputs": [
    {
     "data": {
      "text/html": [
       "<div>\n",
       "<style scoped>\n",
       "    .dataframe tbody tr th:only-of-type {\n",
       "        vertical-align: middle;\n",
       "    }\n",
       "\n",
       "    .dataframe tbody tr th {\n",
       "        vertical-align: top;\n",
       "    }\n",
       "\n",
       "    .dataframe thead th {\n",
       "        text-align: right;\n",
       "    }\n",
       "</style>\n",
       "<table border=\"1\" class=\"dataframe\">\n",
       "  <thead>\n",
       "    <tr style=\"text-align: right;\">\n",
       "      <th></th>\n",
       "      <th>Payment (Rs)</th>\n",
       "    </tr>\n",
       "  </thead>\n",
       "  <tbody>\n",
       "    <tr>\n",
       "      <th>0</th>\n",
       "      <td>386</td>\n",
       "    </tr>\n",
       "    <tr>\n",
       "      <th>1</th>\n",
       "      <td>289</td>\n",
       "    </tr>\n",
       "    <tr>\n",
       "      <th>2</th>\n",
       "      <td>393</td>\n",
       "    </tr>\n",
       "    <tr>\n",
       "      <th>3</th>\n",
       "      <td>110</td>\n",
       "    </tr>\n",
       "    <tr>\n",
       "      <th>4</th>\n",
       "      <td>280</td>\n",
       "    </tr>\n",
       "    <tr>\n",
       "      <th>5</th>\n",
       "      <td>167</td>\n",
       "    </tr>\n",
       "    <tr>\n",
       "      <th>6</th>\n",
       "      <td>271</td>\n",
       "    </tr>\n",
       "    <tr>\n",
       "      <th>7</th>\n",
       "      <td>274</td>\n",
       "    </tr>\n",
       "    <tr>\n",
       "      <th>8</th>\n",
       "      <td>148</td>\n",
       "    </tr>\n",
       "    <tr>\n",
       "      <th>9</th>\n",
       "      <td>198</td>\n",
       "    </tr>\n",
       "  </tbody>\n",
       "</table>\n",
       "</div>"
      ],
      "text/plain": [
       "   Payment (Rs)\n",
       "0           386\n",
       "1           289\n",
       "2           393\n",
       "3           110\n",
       "4           280\n",
       "5           167\n",
       "6           271\n",
       "7           274\n",
       "8           148\n",
       "9           198"
      ]
     },
     "execution_count": 9,
     "metadata": {},
     "output_type": "execute_result"
    }
   ],
   "source": [
    "target_vals"
   ]
  },
  {
   "cell_type": "code",
   "execution_count": 10,
   "id": "b253cbe1",
   "metadata": {},
   "outputs": [
    {
     "data": {
      "text/html": [
       "<div>\n",
       "<style scoped>\n",
       "    .dataframe tbody tr th:only-of-type {\n",
       "        vertical-align: middle;\n",
       "    }\n",
       "\n",
       "    .dataframe tbody tr th {\n",
       "        vertical-align: top;\n",
       "    }\n",
       "\n",
       "    .dataframe thead th {\n",
       "        text-align: right;\n",
       "    }\n",
       "</style>\n",
       "<table border=\"1\" class=\"dataframe\">\n",
       "  <thead>\n",
       "    <tr style=\"text-align: right;\">\n",
       "      <th></th>\n",
       "      <th>Payment (Rs)</th>\n",
       "    </tr>\n",
       "  </thead>\n",
       "  <tbody>\n",
       "    <tr>\n",
       "      <th>count</th>\n",
       "      <td>10.000000</td>\n",
       "    </tr>\n",
       "    <tr>\n",
       "      <th>mean</th>\n",
       "      <td>251.600000</td>\n",
       "    </tr>\n",
       "    <tr>\n",
       "      <th>std</th>\n",
       "      <td>95.425596</td>\n",
       "    </tr>\n",
       "    <tr>\n",
       "      <th>min</th>\n",
       "      <td>110.000000</td>\n",
       "    </tr>\n",
       "    <tr>\n",
       "      <th>25%</th>\n",
       "      <td>174.750000</td>\n",
       "    </tr>\n",
       "    <tr>\n",
       "      <th>50%</th>\n",
       "      <td>272.500000</td>\n",
       "    </tr>\n",
       "    <tr>\n",
       "      <th>75%</th>\n",
       "      <td>286.750000</td>\n",
       "    </tr>\n",
       "    <tr>\n",
       "      <th>max</th>\n",
       "      <td>393.000000</td>\n",
       "    </tr>\n",
       "  </tbody>\n",
       "</table>\n",
       "</div>"
      ],
      "text/plain": [
       "       Payment (Rs)\n",
       "count     10.000000\n",
       "mean     251.600000\n",
       "std       95.425596\n",
       "min      110.000000\n",
       "25%      174.750000\n",
       "50%      272.500000\n",
       "75%      286.750000\n",
       "max      393.000000"
      ]
     },
     "execution_count": 10,
     "metadata": {},
     "output_type": "execute_result"
    }
   ],
   "source": [
    "target_vals.describe()"
   ]
  },
  {
   "cell_type": "code",
   "execution_count": 11,
   "id": "199d74ff",
   "metadata": {},
   "outputs": [
    {
     "data": {
      "text/html": [
       "<div>\n",
       "<style scoped>\n",
       "    .dataframe tbody tr th:only-of-type {\n",
       "        vertical-align: middle;\n",
       "    }\n",
       "\n",
       "    .dataframe tbody tr th {\n",
       "        vertical-align: top;\n",
       "    }\n",
       "\n",
       "    .dataframe thead th {\n",
       "        text-align: right;\n",
       "    }\n",
       "</style>\n",
       "<table border=\"1\" class=\"dataframe\">\n",
       "  <thead>\n",
       "    <tr style=\"text-align: right;\">\n",
       "      <th></th>\n",
       "      <th>Candies (#)</th>\n",
       "      <th>Mangoes (Kg)</th>\n",
       "      <th>Milk Packets (#)</th>\n",
       "    </tr>\n",
       "  </thead>\n",
       "  <tbody>\n",
       "    <tr>\n",
       "      <th>count</th>\n",
       "      <td>10.000000</td>\n",
       "      <td>10.000000</td>\n",
       "      <td>10.000000</td>\n",
       "    </tr>\n",
       "    <tr>\n",
       "      <th>mean</th>\n",
       "      <td>19.800000</td>\n",
       "      <td>3.200000</td>\n",
       "      <td>3.100000</td>\n",
       "    </tr>\n",
       "    <tr>\n",
       "      <th>std</th>\n",
       "      <td>3.823901</td>\n",
       "      <td>1.932184</td>\n",
       "      <td>1.523884</td>\n",
       "    </tr>\n",
       "    <tr>\n",
       "      <th>min</th>\n",
       "      <td>15.000000</td>\n",
       "      <td>1.000000</td>\n",
       "      <td>2.000000</td>\n",
       "    </tr>\n",
       "    <tr>\n",
       "      <th>25%</th>\n",
       "      <td>16.500000</td>\n",
       "      <td>1.250000</td>\n",
       "      <td>2.000000</td>\n",
       "    </tr>\n",
       "    <tr>\n",
       "      <th>50%</th>\n",
       "      <td>19.500000</td>\n",
       "      <td>3.500000</td>\n",
       "      <td>2.000000</td>\n",
       "    </tr>\n",
       "    <tr>\n",
       "      <th>75%</th>\n",
       "      <td>21.750000</td>\n",
       "      <td>4.000000</td>\n",
       "      <td>4.000000</td>\n",
       "    </tr>\n",
       "    <tr>\n",
       "      <th>max</th>\n",
       "      <td>27.000000</td>\n",
       "      <td>6.000000</td>\n",
       "      <td>6.000000</td>\n",
       "    </tr>\n",
       "  </tbody>\n",
       "</table>\n",
       "</div>"
      ],
      "text/plain": [
       "       Candies (#)  Mangoes (Kg)  Milk Packets (#)\n",
       "count    10.000000     10.000000         10.000000\n",
       "mean     19.800000      3.200000          3.100000\n",
       "std       3.823901      1.932184          1.523884\n",
       "min      15.000000      1.000000          2.000000\n",
       "25%      16.500000      1.250000          2.000000\n",
       "50%      19.500000      3.500000          2.000000\n",
       "75%      21.750000      4.000000          4.000000\n",
       "max      27.000000      6.000000          6.000000"
      ]
     },
     "execution_count": 11,
     "metadata": {},
     "output_type": "execute_result"
    }
   ],
   "source": [
    "features_vals.describe()"
   ]
  },
  {
   "cell_type": "code",
   "execution_count": 12,
   "id": "bfac5026",
   "metadata": {},
   "outputs": [
    {
     "data": {
      "text/plain": [
       "(10, 3)"
      ]
     },
     "execution_count": 12,
     "metadata": {},
     "output_type": "execute_result"
    }
   ],
   "source": [
    "\n",
    "features_vals.shape\n"
   ]
  },
  {
   "cell_type": "code",
   "execution_count": 13,
   "id": "78aaea79",
   "metadata": {},
   "outputs": [
    {
     "data": {
      "text/plain": [
       "(10, 1)"
      ]
     },
     "execution_count": 13,
     "metadata": {},
     "output_type": "execute_result"
    }
   ],
   "source": [
    "target_vals.shape\n"
   ]
  },
  {
   "cell_type": "code",
   "execution_count": 14,
   "id": "851e0db9",
   "metadata": {},
   "outputs": [
    {
     "data": {
      "text/html": [
       "<div>\n",
       "<style scoped>\n",
       "    .dataframe tbody tr th:only-of-type {\n",
       "        vertical-align: middle;\n",
       "    }\n",
       "\n",
       "    .dataframe tbody tr th {\n",
       "        vertical-align: top;\n",
       "    }\n",
       "\n",
       "    .dataframe thead th {\n",
       "        text-align: right;\n",
       "    }\n",
       "</style>\n",
       "<table border=\"1\" class=\"dataframe\">\n",
       "  <thead>\n",
       "    <tr style=\"text-align: right;\">\n",
       "      <th></th>\n",
       "      <th>Candies (#)</th>\n",
       "      <th>Mangoes (Kg)</th>\n",
       "      <th>Milk Packets (#)</th>\n",
       "    </tr>\n",
       "  </thead>\n",
       "  <tbody>\n",
       "    <tr>\n",
       "      <th>0</th>\n",
       "      <td>3.0</td>\n",
       "      <td>2.0</td>\n",
       "      <td>1.0</td>\n",
       "    </tr>\n",
       "    <tr>\n",
       "      <th>1</th>\n",
       "      <td>3.0</td>\n",
       "      <td>1.0</td>\n",
       "      <td>2.0</td>\n",
       "    </tr>\n",
       "    <tr>\n",
       "      <th>2</th>\n",
       "      <td>3.0</td>\n",
       "      <td>2.0</td>\n",
       "      <td>1.0</td>\n",
       "    </tr>\n",
       "    <tr>\n",
       "      <th>3</th>\n",
       "      <td>3.0</td>\n",
       "      <td>1.0</td>\n",
       "      <td>2.0</td>\n",
       "    </tr>\n",
       "    <tr>\n",
       "      <th>4</th>\n",
       "      <td>3.0</td>\n",
       "      <td>2.0</td>\n",
       "      <td>1.0</td>\n",
       "    </tr>\n",
       "    <tr>\n",
       "      <th>5</th>\n",
       "      <td>3.0</td>\n",
       "      <td>1.0</td>\n",
       "      <td>2.0</td>\n",
       "    </tr>\n",
       "    <tr>\n",
       "      <th>6</th>\n",
       "      <td>3.0</td>\n",
       "      <td>2.0</td>\n",
       "      <td>1.0</td>\n",
       "    </tr>\n",
       "    <tr>\n",
       "      <th>7</th>\n",
       "      <td>3.0</td>\n",
       "      <td>2.0</td>\n",
       "      <td>1.0</td>\n",
       "    </tr>\n",
       "    <tr>\n",
       "      <th>8</th>\n",
       "      <td>3.0</td>\n",
       "      <td>1.0</td>\n",
       "      <td>2.0</td>\n",
       "    </tr>\n",
       "    <tr>\n",
       "      <th>9</th>\n",
       "      <td>3.0</td>\n",
       "      <td>1.0</td>\n",
       "      <td>2.0</td>\n",
       "    </tr>\n",
       "  </tbody>\n",
       "</table>\n",
       "</div>"
      ],
      "text/plain": [
       "   Candies (#)  Mangoes (Kg)  Milk Packets (#)\n",
       "0          3.0           2.0               1.0\n",
       "1          3.0           1.0               2.0\n",
       "2          3.0           2.0               1.0\n",
       "3          3.0           1.0               2.0\n",
       "4          3.0           2.0               1.0\n",
       "5          3.0           1.0               2.0\n",
       "6          3.0           2.0               1.0\n",
       "7          3.0           2.0               1.0\n",
       "8          3.0           1.0               2.0\n",
       "9          3.0           1.0               2.0"
      ]
     },
     "execution_count": 14,
     "metadata": {},
     "output_type": "execute_result"
    }
   ],
   "source": [
    "features_vals.rank(axis=1)#Ignore"
   ]
  },
  {
   "cell_type": "code",
   "execution_count": 5,
   "id": "345df138",
   "metadata": {},
   "outputs": [
    {
     "data": {
      "text/plain": [
       "array([[20,  6,  2],\n",
       "       [16,  3,  6],\n",
       "       [27,  6,  2],\n",
       "       [19,  1,  2],\n",
       "       [24,  4,  2],\n",
       "       [22,  1,  5],\n",
       "       [15,  4,  2],\n",
       "       [18,  4,  2],\n",
       "       [21,  1,  4],\n",
       "       [16,  2,  4]], dtype=int64)"
      ]
     },
     "execution_count": 5,
     "metadata": {},
     "output_type": "execute_result"
    }
   ],
   "source": [
    "features_array = features_vals.to_numpy()\n",
    "features_array"
   ]
  },
  {
   "cell_type": "code",
   "execution_count": 6,
   "id": "57cb4832",
   "metadata": {},
   "outputs": [
    {
     "data": {
      "text/plain": [
       "array([[386],\n",
       "       [289],\n",
       "       [393],\n",
       "       [110],\n",
       "       [280],\n",
       "       [167],\n",
       "       [271],\n",
       "       [274],\n",
       "       [148],\n",
       "       [198]], dtype=int64)"
      ]
     },
     "execution_count": 6,
     "metadata": {},
     "output_type": "execute_result"
    }
   ],
   "source": [
    "target_array = target_vals.to_numpy()\n",
    "target_array"
   ]
  },
  {
   "cell_type": "code",
   "execution_count": 17,
   "id": "2115ebb3",
   "metadata": {},
   "outputs": [
    {
     "name": "stdout",
     "output_type": "stream",
     "text": [
      "The Rank of Features Matrix:  3\n",
      "The Rank of Target Matrix:  1\n"
     ]
    }
   ],
   "source": [
    "print(\"The Rank of Features Matrix: \", np.linalg.matrix_rank(features_array))\n",
    "print(\"The Rank of Target Matrix: \", np.linalg.matrix_rank(target_array))"
   ]
  },
  {
   "cell_type": "markdown",
   "id": "a3a05b56",
   "metadata": {},
   "source": [
    "# A2"
   ]
  },
  {
   "cell_type": "code",
   "execution_count": 18,
   "id": "88d7d59b",
   "metadata": {},
   "outputs": [
    {
     "name": "stdout",
     "output_type": "stream",
     "text": [
      "The Pseudo Inverse of Features Matrix:  [[-0.01008596 -0.03124505  0.01013951  0.0290728   0.0182907   0.01161794\n",
      "  -0.00771348  0.00095458  0.01743623 -0.00542016]\n",
      " [ 0.09059668  0.07263726  0.03172933 -0.09071908 -0.01893196 -0.06926996\n",
      "   0.05675464  0.03152577 -0.07641966  0.00357352]\n",
      " [ 0.00299878  0.15874243 -0.05795468 -0.06609024 -0.06295043  0.03348017\n",
      "   0.01541831 -0.01070461  0.00029003  0.05938755]]\n"
     ]
    }
   ],
   "source": [
    "print(\"The Pseudo Inverse of Features Matrix: \",  np.linalg.pinv(features_array))"
   ]
  },
  {
   "cell_type": "code",
   "execution_count": 19,
   "id": "3743bff0",
   "metadata": {},
   "outputs": [
    {
     "name": "stderr",
     "output_type": "stream",
     "text": [
      "C:\\Users\\heman\\AppData\\Local\\Temp\\ipykernel_8320\\2717862263.py:2: DeprecationWarning: `np.float` is a deprecated alias for the builtin `float`. To silence this warning, use `float` by itself. Doing this will not modify any behavior and is safe. If you specifically wanted the numpy scalar type, use `np.float64` here.\n",
      "Deprecated in NumPy 1.20; for more details and guidance: https://numpy.org/devdocs/release/1.20.0-notes.html#deprecations\n",
      "  target_array = target_array.astype(np.float)\n"
     ]
    }
   ],
   "source": [
    "psv_features = np.linalg.pinv(features_array)\n",
    "target_array = target_array.astype(np.float)"
   ]
  },
  {
   "cell_type": "code",
   "execution_count": 20,
   "id": "46416459",
   "metadata": {},
   "outputs": [
    {
     "data": {
      "text/plain": [
       "array([[ 1.],\n",
       "       [55.],\n",
       "       [18.]])"
      ]
     },
     "execution_count": 20,
     "metadata": {},
     "output_type": "execute_result"
    }
   ],
   "source": [
    "X = np.dot(psv_features,target_array)\n",
    "X\n",
    "##Values of X = (A^-1).C\n",
    "#3X10, 10X1 =1 column 3 rows"
   ]
  },
  {
   "cell_type": "code",
   "execution_count": 21,
   "id": "4f874ee2",
   "metadata": {},
   "outputs": [
    {
     "data": {
      "text/html": [
       "<div>\n",
       "<style scoped>\n",
       "    .dataframe tbody tr th:only-of-type {\n",
       "        vertical-align: middle;\n",
       "    }\n",
       "\n",
       "    .dataframe tbody tr th {\n",
       "        vertical-align: top;\n",
       "    }\n",
       "\n",
       "    .dataframe thead th {\n",
       "        text-align: right;\n",
       "    }\n",
       "</style>\n",
       "<table border=\"1\" class=\"dataframe\">\n",
       "  <thead>\n",
       "    <tr style=\"text-align: right;\">\n",
       "      <th></th>\n",
       "      <th>Candies (#)</th>\n",
       "      <th>Mangoes (Kg)</th>\n",
       "      <th>Milk Packets (#)</th>\n",
       "    </tr>\n",
       "  </thead>\n",
       "  <tbody>\n",
       "    <tr>\n",
       "      <th>0</th>\n",
       "      <td>20</td>\n",
       "      <td>6</td>\n",
       "      <td>2</td>\n",
       "    </tr>\n",
       "    <tr>\n",
       "      <th>1</th>\n",
       "      <td>16</td>\n",
       "      <td>3</td>\n",
       "      <td>6</td>\n",
       "    </tr>\n",
       "    <tr>\n",
       "      <th>2</th>\n",
       "      <td>27</td>\n",
       "      <td>6</td>\n",
       "      <td>2</td>\n",
       "    </tr>\n",
       "    <tr>\n",
       "      <th>3</th>\n",
       "      <td>19</td>\n",
       "      <td>1</td>\n",
       "      <td>2</td>\n",
       "    </tr>\n",
       "    <tr>\n",
       "      <th>4</th>\n",
       "      <td>24</td>\n",
       "      <td>4</td>\n",
       "      <td>2</td>\n",
       "    </tr>\n",
       "    <tr>\n",
       "      <th>5</th>\n",
       "      <td>22</td>\n",
       "      <td>1</td>\n",
       "      <td>5</td>\n",
       "    </tr>\n",
       "    <tr>\n",
       "      <th>6</th>\n",
       "      <td>15</td>\n",
       "      <td>4</td>\n",
       "      <td>2</td>\n",
       "    </tr>\n",
       "    <tr>\n",
       "      <th>7</th>\n",
       "      <td>18</td>\n",
       "      <td>4</td>\n",
       "      <td>2</td>\n",
       "    </tr>\n",
       "    <tr>\n",
       "      <th>8</th>\n",
       "      <td>21</td>\n",
       "      <td>1</td>\n",
       "      <td>4</td>\n",
       "    </tr>\n",
       "    <tr>\n",
       "      <th>9</th>\n",
       "      <td>16</td>\n",
       "      <td>2</td>\n",
       "      <td>4</td>\n",
       "    </tr>\n",
       "  </tbody>\n",
       "</table>\n",
       "</div>"
      ],
      "text/plain": [
       "   Candies (#)  Mangoes (Kg)  Milk Packets (#)\n",
       "0           20             6                 2\n",
       "1           16             3                 6\n",
       "2           27             6                 2\n",
       "3           19             1                 2\n",
       "4           24             4                 2\n",
       "5           22             1                 5\n",
       "6           15             4                 2\n",
       "7           18             4                 2\n",
       "8           21             1                 4\n",
       "9           16             2                 4"
      ]
     },
     "execution_count": 21,
     "metadata": {},
     "output_type": "execute_result"
    }
   ],
   "source": [
    "features_vals"
   ]
  },
  {
   "cell_type": "code",
   "execution_count": 22,
   "id": "e7098635",
   "metadata": {},
   "outputs": [
    {
     "data": {
      "text/html": [
       "<div>\n",
       "<style scoped>\n",
       "    .dataframe tbody tr th:only-of-type {\n",
       "        vertical-align: middle;\n",
       "    }\n",
       "\n",
       "    .dataframe tbody tr th {\n",
       "        vertical-align: top;\n",
       "    }\n",
       "\n",
       "    .dataframe thead th {\n",
       "        text-align: right;\n",
       "    }\n",
       "</style>\n",
       "<table border=\"1\" class=\"dataframe\">\n",
       "  <thead>\n",
       "    <tr style=\"text-align: right;\">\n",
       "      <th></th>\n",
       "      <th>Payment (Rs)</th>\n",
       "    </tr>\n",
       "  </thead>\n",
       "  <tbody>\n",
       "    <tr>\n",
       "      <th>0</th>\n",
       "      <td>386</td>\n",
       "    </tr>\n",
       "    <tr>\n",
       "      <th>1</th>\n",
       "      <td>289</td>\n",
       "    </tr>\n",
       "    <tr>\n",
       "      <th>2</th>\n",
       "      <td>393</td>\n",
       "    </tr>\n",
       "    <tr>\n",
       "      <th>3</th>\n",
       "      <td>110</td>\n",
       "    </tr>\n",
       "    <tr>\n",
       "      <th>4</th>\n",
       "      <td>280</td>\n",
       "    </tr>\n",
       "    <tr>\n",
       "      <th>5</th>\n",
       "      <td>167</td>\n",
       "    </tr>\n",
       "    <tr>\n",
       "      <th>6</th>\n",
       "      <td>271</td>\n",
       "    </tr>\n",
       "    <tr>\n",
       "      <th>7</th>\n",
       "      <td>274</td>\n",
       "    </tr>\n",
       "    <tr>\n",
       "      <th>8</th>\n",
       "      <td>148</td>\n",
       "    </tr>\n",
       "    <tr>\n",
       "      <th>9</th>\n",
       "      <td>198</td>\n",
       "    </tr>\n",
       "  </tbody>\n",
       "</table>\n",
       "</div>"
      ],
      "text/plain": [
       "   Payment (Rs)\n",
       "0           386\n",
       "1           289\n",
       "2           393\n",
       "3           110\n",
       "4           280\n",
       "5           167\n",
       "6           271\n",
       "7           274\n",
       "8           148\n",
       "9           198"
      ]
     },
     "execution_count": 22,
     "metadata": {},
     "output_type": "execute_result"
    }
   ],
   "source": [
    "target_vals"
   ]
  },
  {
   "cell_type": "markdown",
   "id": "6933e06f",
   "metadata": {},
   "source": [
    "# A3"
   ]
  },
  {
   "cell_type": "code",
   "execution_count": 23,
   "id": "0748bbb4",
   "metadata": {},
   "outputs": [],
   "source": [
    "target_vals[\"Payment (Rs)\"] = target_vals[\"Payment (Rs)\"].astype('int64')"
   ]
  },
  {
   "cell_type": "code",
   "execution_count": 25,
   "id": "1f59e98a",
   "metadata": {},
   "outputs": [],
   "source": [
    "def flag(df):\n",
    "    if(df['Payment (Rs)']>200):\n",
    "        return 'RICH'\n",
    "    else:\n",
    "        return 'POOR'\n",
    "target_vals['Payment (Rs)'] = target_vals.apply(flag, axis=1)"
   ]
  },
  {
   "cell_type": "code",
   "execution_count": 26,
   "id": "2bfda0f5",
   "metadata": {},
   "outputs": [
    {
     "data": {
      "text/html": [
       "<div>\n",
       "<style scoped>\n",
       "    .dataframe tbody tr th:only-of-type {\n",
       "        vertical-align: middle;\n",
       "    }\n",
       "\n",
       "    .dataframe tbody tr th {\n",
       "        vertical-align: top;\n",
       "    }\n",
       "\n",
       "    .dataframe thead th {\n",
       "        text-align: right;\n",
       "    }\n",
       "</style>\n",
       "<table border=\"1\" class=\"dataframe\">\n",
       "  <thead>\n",
       "    <tr style=\"text-align: right;\">\n",
       "      <th></th>\n",
       "      <th>Payment (Rs)</th>\n",
       "    </tr>\n",
       "  </thead>\n",
       "  <tbody>\n",
       "    <tr>\n",
       "      <th>0</th>\n",
       "      <td>RICH</td>\n",
       "    </tr>\n",
       "    <tr>\n",
       "      <th>1</th>\n",
       "      <td>RICH</td>\n",
       "    </tr>\n",
       "    <tr>\n",
       "      <th>2</th>\n",
       "      <td>RICH</td>\n",
       "    </tr>\n",
       "    <tr>\n",
       "      <th>3</th>\n",
       "      <td>POOR</td>\n",
       "    </tr>\n",
       "    <tr>\n",
       "      <th>4</th>\n",
       "      <td>RICH</td>\n",
       "    </tr>\n",
       "    <tr>\n",
       "      <th>5</th>\n",
       "      <td>POOR</td>\n",
       "    </tr>\n",
       "    <tr>\n",
       "      <th>6</th>\n",
       "      <td>RICH</td>\n",
       "    </tr>\n",
       "    <tr>\n",
       "      <th>7</th>\n",
       "      <td>RICH</td>\n",
       "    </tr>\n",
       "    <tr>\n",
       "      <th>8</th>\n",
       "      <td>POOR</td>\n",
       "    </tr>\n",
       "    <tr>\n",
       "      <th>9</th>\n",
       "      <td>POOR</td>\n",
       "    </tr>\n",
       "  </tbody>\n",
       "</table>\n",
       "</div>"
      ],
      "text/plain": [
       "  Payment (Rs)\n",
       "0         RICH\n",
       "1         RICH\n",
       "2         RICH\n",
       "3         POOR\n",
       "4         RICH\n",
       "5         POOR\n",
       "6         RICH\n",
       "7         RICH\n",
       "8         POOR\n",
       "9         POOR"
      ]
     },
     "execution_count": 26,
     "metadata": {},
     "output_type": "execute_result"
    }
   ],
   "source": [
    "target_vals"
   ]
  },
  {
   "cell_type": "markdown",
   "id": "5d3af654",
   "metadata": {},
   "source": [
    "# Logistic Regression on data"
   ]
  },
  {
   "cell_type": "code",
   "execution_count": 27,
   "id": "696cbb85",
   "metadata": {},
   "outputs": [],
   "source": [
    "from sklearn.linear_model import LogisticRegression"
   ]
  },
  {
   "cell_type": "code",
   "execution_count": 28,
   "id": "ca852251",
   "metadata": {},
   "outputs": [],
   "source": [
    "log_reg = LogisticRegression()\n"
   ]
  },
  {
   "cell_type": "code",
   "execution_count": 29,
   "id": "b8d6ebbf",
   "metadata": {},
   "outputs": [],
   "source": [
    "from sklearn.model_selection import train_test_split\n",
    "\n",
    "X_train, X_test, y_train, y_test = train_test_split(features_vals, target_vals, test_size=0.30, random_state=42)"
   ]
  },
  {
   "cell_type": "code",
   "execution_count": 30,
   "id": "bd31f778",
   "metadata": {},
   "outputs": [
    {
     "data": {
      "text/plain": [
       "LogisticRegression()"
      ]
     },
     "execution_count": 30,
     "metadata": {},
     "output_type": "execute_result"
    }
   ],
   "source": [
    "log_reg.fit(X_train,y_train.values.ravel())"
   ]
  },
  {
   "cell_type": "code",
   "execution_count": 31,
   "id": "e77f9468",
   "metadata": {},
   "outputs": [],
   "source": [
    "y_pred=log_reg.predict(X_test)"
   ]
  },
  {
   "cell_type": "code",
   "execution_count": 32,
   "id": "4d7b919c",
   "metadata": {},
   "outputs": [
    {
     "data": {
      "text/plain": [
       "array(['POOR', 'POOR', 'POOR'], dtype=object)"
      ]
     },
     "execution_count": 32,
     "metadata": {},
     "output_type": "execute_result"
    }
   ],
   "source": [
    "y_pred"
   ]
  },
  {
   "cell_type": "code",
   "execution_count": 33,
   "id": "80e03f46",
   "metadata": {},
   "outputs": [
    {
     "data": {
      "text/html": [
       "<div>\n",
       "<style scoped>\n",
       "    .dataframe tbody tr th:only-of-type {\n",
       "        vertical-align: middle;\n",
       "    }\n",
       "\n",
       "    .dataframe tbody tr th {\n",
       "        vertical-align: top;\n",
       "    }\n",
       "\n",
       "    .dataframe thead th {\n",
       "        text-align: right;\n",
       "    }\n",
       "</style>\n",
       "<table border=\"1\" class=\"dataframe\">\n",
       "  <thead>\n",
       "    <tr style=\"text-align: right;\">\n",
       "      <th></th>\n",
       "      <th>Candies (#)</th>\n",
       "      <th>Mangoes (Kg)</th>\n",
       "      <th>Milk Packets (#)</th>\n",
       "    </tr>\n",
       "  </thead>\n",
       "  <tbody>\n",
       "    <tr>\n",
       "      <th>8</th>\n",
       "      <td>21</td>\n",
       "      <td>1</td>\n",
       "      <td>4</td>\n",
       "    </tr>\n",
       "    <tr>\n",
       "      <th>1</th>\n",
       "      <td>16</td>\n",
       "      <td>3</td>\n",
       "      <td>6</td>\n",
       "    </tr>\n",
       "    <tr>\n",
       "      <th>5</th>\n",
       "      <td>22</td>\n",
       "      <td>1</td>\n",
       "      <td>5</td>\n",
       "    </tr>\n",
       "  </tbody>\n",
       "</table>\n",
       "</div>"
      ],
      "text/plain": [
       "   Candies (#)  Mangoes (Kg)  Milk Packets (#)\n",
       "8           21             1                 4\n",
       "1           16             3                 6\n",
       "5           22             1                 5"
      ]
     },
     "execution_count": 33,
     "metadata": {},
     "output_type": "execute_result"
    }
   ],
   "source": [
    "X_test"
   ]
  },
  {
   "cell_type": "code",
   "execution_count": 34,
   "id": "00236bd9",
   "metadata": {},
   "outputs": [
    {
     "data": {
      "text/plain": [
       "Text(0.5, 1.0, 'Confusion Matrix - Logistic Regression')"
      ]
     },
     "execution_count": 34,
     "metadata": {},
     "output_type": "execute_result"
    },
    {
     "data": {
      "image/png": "[encoded data removed]",
      "text/plain": [
       "<Figure size 720x576 with 2 Axes>"
      ]
     },
     "metadata": {
      "needs_background": "light"
     },
     "output_type": "display_data"
    }
   ],
   "source": [
    "from sklearn.metrics import confusion_matrix\n",
    "cm = confusion_matrix(y_test, y_pred)\n",
    "cm\n",
    "import seaborn as sn\n",
    "import matplotlib.pyplot as plt\n",
    "plt.figure(figsize = (10,8))\n",
    "sn.heatmap(cm, annot=True, cmap= 'magma',  fmt='d', cbar=True)\n",
    "plt.xlabel('Predicted_Label')\n",
    "plt.ylabel('Truth_Label')\n",
    "plt.title('Confusion Matrix - Logistic Regression')"
   ]
  },
  {
   "cell_type": "code",
   "execution_count": 35,
   "id": "e68d3aa6",
   "metadata": {},
   "outputs": [
    {
     "name": "stdout",
     "output_type": "stream",
     "text": [
      "Test Accuracy Score 0.6666666666666666\n"
     ]
    }
   ],
   "source": [
    "score = log_reg.score(X_test, y_test)\n",
    "print('Test Accuracy Score', score)\n",
    "## 1/3rd of test cases are wrongly predicted"
   ]
  },
  {
   "cell_type": "markdown",
   "id": "a7bd8d4a",
   "metadata": {},
   "source": [
    "# A4"
   ]
  },
  {
   "cell_type": "code",
   "execution_count": 4,
   "id": "59a986d2",
   "metadata": {},
   "outputs": [],
   "source": [
    "irctc_data = pd.read_csv(\"D:\\Amrita\\SEM 5\\ML\\Lab_1_IRCTC.csv\")"
   ]
  },
  {
   "cell_type": "code",
   "execution_count": 68,
   "id": "7e19466b",
   "metadata": {},
   "outputs": [
    {
     "data": {
      "text/plain": [
       "(249, 10)"
      ]
     },
     "execution_count": 68,
     "metadata": {},
     "output_type": "execute_result"
    }
   ],
   "source": [
    "irctc_data.shape"
   ]
  },
  {
   "cell_type": "code",
   "execution_count": 69,
   "id": "31dad915",
   "metadata": {},
   "outputs": [
    {
     "data": {
      "text/html": [
       "<div>\n",
       "<style scoped>\n",
       "    .dataframe tbody tr th:only-of-type {\n",
       "        vertical-align: middle;\n",
       "    }\n",
       "\n",
       "    .dataframe tbody tr th {\n",
       "        vertical-align: top;\n",
       "    }\n",
       "\n",
       "    .dataframe thead th {\n",
       "        text-align: right;\n",
       "    }\n",
       "</style>\n",
       "<table border=\"1\" class=\"dataframe\">\n",
       "  <thead>\n",
       "    <tr style=\"text-align: right;\">\n",
       "      <th></th>\n",
       "      <th>Volume</th>\n",
       "      <th>Date</th>\n",
       "      <th>Year</th>\n",
       "      <th>Price</th>\n",
       "      <th>Chg</th>\n",
       "    </tr>\n",
       "  </thead>\n",
       "  <tbody>\n",
       "    <tr>\n",
       "      <th>count</th>\n",
       "      <td>2.490000e+02</td>\n",
       "      <td>249.000000</td>\n",
       "      <td>249.000000</td>\n",
       "      <td>249.000000</td>\n",
       "      <td>249.000000</td>\n",
       "    </tr>\n",
       "    <tr>\n",
       "      <th>mean</th>\n",
       "      <td>1.516055e+06</td>\n",
       "      <td>15.534137</td>\n",
       "      <td>2020.485944</td>\n",
       "      <td>1560.663454</td>\n",
       "      <td>0.001964</td>\n",
       "    </tr>\n",
       "    <tr>\n",
       "      <th>std</th>\n",
       "      <td>2.011121e+06</td>\n",
       "      <td>8.768060</td>\n",
       "      <td>0.500809</td>\n",
       "      <td>242.347613</td>\n",
       "      <td>0.022488</td>\n",
       "    </tr>\n",
       "    <tr>\n",
       "      <th>min</th>\n",
       "      <td>8.450000e+04</td>\n",
       "      <td>1.000000</td>\n",
       "      <td>2020.000000</td>\n",
       "      <td>1300.550000</td>\n",
       "      <td>-0.102000</td>\n",
       "    </tr>\n",
       "    <tr>\n",
       "      <th>25%</th>\n",
       "      <td>3.939900e+05</td>\n",
       "      <td>8.000000</td>\n",
       "      <td>2020.000000</td>\n",
       "      <td>1366.500000</td>\n",
       "      <td>-0.006400</td>\n",
       "    </tr>\n",
       "    <tr>\n",
       "      <th>50%</th>\n",
       "      <td>9.374900e+05</td>\n",
       "      <td>16.000000</td>\n",
       "      <td>2020.000000</td>\n",
       "      <td>1438.250000</td>\n",
       "      <td>0.000000</td>\n",
       "    </tr>\n",
       "    <tr>\n",
       "      <th>75%</th>\n",
       "      <td>1.780000e+06</td>\n",
       "      <td>23.000000</td>\n",
       "      <td>2021.000000</td>\n",
       "      <td>1747.400000</td>\n",
       "      <td>0.009100</td>\n",
       "    </tr>\n",
       "    <tr>\n",
       "      <th>max</th>\n",
       "      <td>1.719000e+07</td>\n",
       "      <td>31.000000</td>\n",
       "      <td>2021.000000</td>\n",
       "      <td>2144.850000</td>\n",
       "      <td>0.139700</td>\n",
       "    </tr>\n",
       "  </tbody>\n",
       "</table>\n",
       "</div>"
      ],
      "text/plain": [
       "             Volume        Date         Year        Price         Chg\n",
       "count  2.490000e+02  249.000000   249.000000   249.000000  249.000000\n",
       "mean   1.516055e+06   15.534137  2020.485944  1560.663454    0.001964\n",
       "std    2.011121e+06    8.768060     0.500809   242.347613    0.022488\n",
       "min    8.450000e+04    1.000000  2020.000000  1300.550000   -0.102000\n",
       "25%    3.939900e+05    8.000000  2020.000000  1366.500000   -0.006400\n",
       "50%    9.374900e+05   16.000000  2020.000000  1438.250000    0.000000\n",
       "75%    1.780000e+06   23.000000  2021.000000  1747.400000    0.009100\n",
       "max    1.719000e+07   31.000000  2021.000000  2144.850000    0.139700"
      ]
     },
     "execution_count": 69,
     "metadata": {},
     "output_type": "execute_result"
    }
   ],
   "source": [
    "irctc_data.describe()"
   ]
  },
  {
   "cell_type": "code",
   "execution_count": 70,
   "id": "bc757e00",
   "metadata": {},
   "outputs": [
    {
     "data": {
      "text/html": [
       "<div>\n",
       "<style scoped>\n",
       "    .dataframe tbody tr th:only-of-type {\n",
       "        vertical-align: middle;\n",
       "    }\n",
       "\n",
       "    .dataframe tbody tr th {\n",
       "        vertical-align: top;\n",
       "    }\n",
       "\n",
       "    .dataframe thead th {\n",
       "        text-align: right;\n",
       "    }\n",
       "</style>\n",
       "<table border=\"1\" class=\"dataframe\">\n",
       "  <thead>\n",
       "    <tr style=\"text-align: right;\">\n",
       "      <th></th>\n",
       "      <th>Open</th>\n",
       "      <th>High</th>\n",
       "      <th>Low</th>\n",
       "      <th>Volume</th>\n",
       "      <th>Month</th>\n",
       "      <th>Date</th>\n",
       "      <th>Day</th>\n",
       "      <th>Year</th>\n",
       "      <th>Price</th>\n",
       "      <th>Chg</th>\n",
       "    </tr>\n",
       "  </thead>\n",
       "  <tbody>\n",
       "    <tr>\n",
       "      <th>0</th>\n",
       "      <td>2,092.00</td>\n",
       "      <td>2,126.90</td>\n",
       "      <td>2,065.05</td>\n",
       "      <td>1670000</td>\n",
       "      <td>Jun</td>\n",
       "      <td>29</td>\n",
       "      <td>Tue</td>\n",
       "      <td>2021</td>\n",
       "      <td>2081.85</td>\n",
       "      <td>0.0020</td>\n",
       "    </tr>\n",
       "    <tr>\n",
       "      <th>1</th>\n",
       "      <td>2,084.00</td>\n",
       "      <td>2,112.45</td>\n",
       "      <td>2,068.40</td>\n",
       "      <td>707730</td>\n",
       "      <td>Jun</td>\n",
       "      <td>28</td>\n",
       "      <td>Mon</td>\n",
       "      <td>2021</td>\n",
       "      <td>2077.75</td>\n",
       "      <td>0.0043</td>\n",
       "    </tr>\n",
       "    <tr>\n",
       "      <th>2</th>\n",
       "      <td>2,084.35</td>\n",
       "      <td>2,088.50</td>\n",
       "      <td>2,053.10</td>\n",
       "      <td>475820</td>\n",
       "      <td>Jun</td>\n",
       "      <td>25</td>\n",
       "      <td>Fri</td>\n",
       "      <td>2021</td>\n",
       "      <td>2068.85</td>\n",
       "      <td>-0.0020</td>\n",
       "    </tr>\n",
       "    <tr>\n",
       "      <th>3</th>\n",
       "      <td>2,098.00</td>\n",
       "      <td>2,098.00</td>\n",
       "      <td>2,066.00</td>\n",
       "      <td>541510</td>\n",
       "      <td>Jun</td>\n",
       "      <td>24</td>\n",
       "      <td>Thu</td>\n",
       "      <td>2021</td>\n",
       "      <td>2072.95</td>\n",
       "      <td>-0.0026</td>\n",
       "    </tr>\n",
       "    <tr>\n",
       "      <th>4</th>\n",
       "      <td>2,102.00</td>\n",
       "      <td>2,111.40</td>\n",
       "      <td>2,072.00</td>\n",
       "      <td>809620</td>\n",
       "      <td>Jun</td>\n",
       "      <td>23</td>\n",
       "      <td>Wed</td>\n",
       "      <td>2021</td>\n",
       "      <td>2078.25</td>\n",
       "      <td>-0.0023</td>\n",
       "    </tr>\n",
       "  </tbody>\n",
       "</table>\n",
       "</div>"
      ],
      "text/plain": [
       "       Open      High       Low   Volume Month  Date  Day  Year    Price  \\\n",
       "0  2,092.00  2,126.90  2,065.05  1670000   Jun    29  Tue  2021  2081.85   \n",
       "1  2,084.00  2,112.45  2,068.40   707730   Jun    28  Mon  2021  2077.75   \n",
       "2  2,084.35  2,088.50  2,053.10   475820   Jun    25  Fri  2021  2068.85   \n",
       "3  2,098.00  2,098.00  2,066.00   541510   Jun    24  Thu  2021  2072.95   \n",
       "4  2,102.00  2,111.40  2,072.00   809620   Jun    23  Wed  2021  2078.25   \n",
       "\n",
       "      Chg  \n",
       "0  0.0020  \n",
       "1  0.0043  \n",
       "2 -0.0020  \n",
       "3 -0.0026  \n",
       "4 -0.0023  "
      ]
     },
     "execution_count": 70,
     "metadata": {},
     "output_type": "execute_result"
    }
   ],
   "source": [
    "irctc_data.head()"
   ]
  },
  {
   "cell_type": "markdown",
   "id": "9d1ee451",
   "metadata": {},
   "source": [
    "### Price mean for whole population is given in describe"
   ]
  },
  {
   "cell_type": "code",
   "execution_count": 71,
   "id": "c9442f42",
   "metadata": {},
   "outputs": [
    {
     "data": {
      "text/html": [
       "<div>\n",
       "<style scoped>\n",
       "    .dataframe tbody tr th:only-of-type {\n",
       "        vertical-align: middle;\n",
       "    }\n",
       "\n",
       "    .dataframe tbody tr th {\n",
       "        vertical-align: top;\n",
       "    }\n",
       "\n",
       "    .dataframe thead th {\n",
       "        text-align: right;\n",
       "    }\n",
       "</style>\n",
       "<table border=\"1\" class=\"dataframe\">\n",
       "  <thead>\n",
       "    <tr style=\"text-align: right;\">\n",
       "      <th></th>\n",
       "      <th>Price</th>\n",
       "    </tr>\n",
       "  </thead>\n",
       "  <tbody>\n",
       "    <tr>\n",
       "      <th>count</th>\n",
       "      <td>249.000000</td>\n",
       "    </tr>\n",
       "    <tr>\n",
       "      <th>mean</th>\n",
       "      <td>1560.663454</td>\n",
       "    </tr>\n",
       "    <tr>\n",
       "      <th>std</th>\n",
       "      <td>242.347613</td>\n",
       "    </tr>\n",
       "    <tr>\n",
       "      <th>min</th>\n",
       "      <td>1300.550000</td>\n",
       "    </tr>\n",
       "    <tr>\n",
       "      <th>25%</th>\n",
       "      <td>1366.500000</td>\n",
       "    </tr>\n",
       "    <tr>\n",
       "      <th>50%</th>\n",
       "      <td>1438.250000</td>\n",
       "    </tr>\n",
       "    <tr>\n",
       "      <th>75%</th>\n",
       "      <td>1747.400000</td>\n",
       "    </tr>\n",
       "    <tr>\n",
       "      <th>max</th>\n",
       "      <td>2144.850000</td>\n",
       "    </tr>\n",
       "  </tbody>\n",
       "</table>\n",
       "</div>"
      ],
      "text/plain": [
       "             Price\n",
       "count   249.000000\n",
       "mean   1560.663454\n",
       "std     242.347613\n",
       "min    1300.550000\n",
       "25%    1366.500000\n",
       "50%    1438.250000\n",
       "75%    1747.400000\n",
       "max    2144.850000"
      ]
     },
     "execution_count": 71,
     "metadata": {},
     "output_type": "execute_result"
    }
   ],
   "source": [
    "irctc_data[[\"Price\"]].describe()\n",
    "#Mean = 1560 for population"
   ]
  },
  {
   "cell_type": "code",
   "execution_count": 72,
   "id": "bbac486a",
   "metadata": {},
   "outputs": [
    {
     "name": "stdout",
     "output_type": "stream",
     "text": [
      "Variance of Price:  58732.36535253918\n"
     ]
    }
   ],
   "source": [
    "print(\"Variance of Price: \", irctc_data['Price'].var())"
   ]
  },
  {
   "cell_type": "code",
   "execution_count": 73,
   "id": "a947f2a4",
   "metadata": {},
   "outputs": [],
   "source": [
    "irctc_wed = irctc_data.loc[irctc_data['Day'] == 'Wed', 'Price']"
   ]
  },
  {
   "cell_type": "code",
   "execution_count": 74,
   "id": "fda390a3",
   "metadata": {},
   "outputs": [
    {
     "data": {
      "text/plain": [
       "4      2078.25\n",
       "9      2089.95\n",
       "14     2071.20\n",
       "19     1917.95\n",
       "24     1894.05\n",
       "29     1858.10\n",
       "33     1746.60\n",
       "38     1723.65\n",
       "43     1795.85\n",
       "56     1709.00\n",
       "60     1757.00\n",
       "64     1760.55\n",
       "69     1824.00\n",
       "73     2018.50\n",
       "78     1886.10\n",
       "83     1675.45\n",
       "88     1698.65\n",
       "93     1618.40\n",
       "98     1469.35\n",
       "103    1438.25\n",
       "107    1452.70\n",
       "112    1461.15\n",
       "117    1483.45\n",
       "122    1434.95\n",
       "126    1411.55\n",
       "131    1423.40\n",
       "136    1617.75\n",
       "141    1349.90\n",
       "145    1353.90\n",
       "150    1365.30\n",
       "154    1371.25\n",
       "159    1300.55\n",
       "164    1333.35\n",
       "169    1331.75\n",
       "174    1338.05\n",
       "179    1356.90\n",
       "183    1384.00\n",
       "188    1372.85\n",
       "193    1367.40\n",
       "198    1348.90\n",
       "203    1359.75\n",
       "208    1369.30\n",
       "213    1361.80\n",
       "218    1386.80\n",
       "223    1336.95\n",
       "228    1352.75\n",
       "233    1372.95\n",
       "238    1351.95\n",
       "243    1390.10\n",
       "248    1363.05\n",
       "Name: Price, dtype: float64"
      ]
     },
     "execution_count": 74,
     "metadata": {},
     "output_type": "execute_result"
    }
   ],
   "source": [
    "irctc_wed"
   ]
  },
  {
   "cell_type": "markdown",
   "id": "2fdf6a76",
   "metadata": {},
   "source": [
    "### Mean of price on wednesdays is 10 units lesser than the population"
   ]
  },
  {
   "cell_type": "code",
   "execution_count": 75,
   "id": "88058268",
   "metadata": {},
   "outputs": [
    {
     "data": {
      "text/plain": [
       "count      50.000000\n",
       "mean     1550.706000\n",
       "std       240.706357\n",
       "min      1300.550000\n",
       "25%      1362.112500\n",
       "50%      1429.175000\n",
       "75%      1740.862500\n",
       "max      2089.950000\n",
       "Name: Price, dtype: float64"
      ]
     },
     "execution_count": 75,
     "metadata": {},
     "output_type": "execute_result"
    }
   ],
   "source": [
    "irctc_wed.describe()"
   ]
  },
  {
   "cell_type": "code",
   "execution_count": 76,
   "id": "a11b89a1",
   "metadata": {},
   "outputs": [],
   "source": [
    "irctc_apr = irctc_data.loc[irctc_data['Month'] == 'Apr', 'Price']"
   ]
  },
  {
   "cell_type": "code",
   "execution_count": 77,
   "id": "7571d90f",
   "metadata": {},
   "outputs": [
    {
     "data": {
      "text/plain": [
       "41    1791.40\n",
       "42    1792.55\n",
       "43    1795.85\n",
       "44    1793.20\n",
       "45    1730.85\n",
       "46    1712.00\n",
       "47    1673.05\n",
       "48    1640.05\n",
       "49    1612.70\n",
       "50    1627.45\n",
       "51    1608.10\n",
       "52    1611.65\n",
       "53    1582.00\n",
       "54    1730.90\n",
       "55    1726.40\n",
       "56    1709.00\n",
       "57    1688.55\n",
       "58    1702.65\n",
       "59    1751.75\n",
       "Name: Price, dtype: float64"
      ]
     },
     "execution_count": 77,
     "metadata": {},
     "output_type": "execute_result"
    }
   ],
   "source": [
    "irctc_apr"
   ]
  },
  {
   "cell_type": "markdown",
   "id": "5ff8d65a",
   "metadata": {},
   "source": [
    "### Mean of Price in April Months is 138 units more than population"
   ]
  },
  {
   "cell_type": "code",
   "execution_count": 78,
   "id": "d2ea8d3a",
   "metadata": {},
   "outputs": [
    {
     "data": {
      "text/plain": [
       "count      19.000000\n",
       "mean     1698.952632\n",
       "std        69.839973\n",
       "min      1582.000000\n",
       "25%      1633.750000\n",
       "50%      1709.000000\n",
       "75%      1741.325000\n",
       "max      1795.850000\n",
       "Name: Price, dtype: float64"
      ]
     },
     "execution_count": 78,
     "metadata": {},
     "output_type": "execute_result"
    }
   ],
   "source": [
    "irctc_apr.describe()"
   ]
  },
  {
   "cell_type": "markdown",
   "id": "cac13d68",
   "metadata": {},
   "source": [
    "### Finding the probability of making a loss over the stock using change%"
   ]
  },
  {
   "cell_type": "code",
   "execution_count": 88,
   "id": "bc00ce2a",
   "metadata": {},
   "outputs": [
    {
     "name": "stdout",
     "output_type": "stream",
     "text": [
      "124\n",
      "124\n"
     ]
    }
   ],
   "source": [
    "count_neg = irctc_data['Chg'].lt(0).sum()\n",
    "count_pos = irctc_data['Chg'].gt(0).sum()\n",
    "print(count_neg)\n",
    "print(count_pos)"
   ]
  },
  {
   "cell_type": "code",
   "execution_count": 89,
   "id": "dbb04baa",
   "metadata": {},
   "outputs": [
    {
     "name": "stdout",
     "output_type": "stream",
     "text": [
      "0.5\n"
     ]
    }
   ],
   "source": [
    "loss_percentage = (count_neg)/(count_neg+count_pos)\n",
    "print(loss_percentage)"
   ]
  },
  {
   "cell_type": "code",
   "execution_count": 97,
   "id": "b17c654d",
   "metadata": {},
   "outputs": [
    {
     "data": {
      "text/html": [
       "<div>\n",
       "<style scoped>\n",
       "    .dataframe tbody tr th:only-of-type {\n",
       "        vertical-align: middle;\n",
       "    }\n",
       "\n",
       "    .dataframe tbody tr th {\n",
       "        vertical-align: top;\n",
       "    }\n",
       "\n",
       "    .dataframe thead th {\n",
       "        text-align: right;\n",
       "    }\n",
       "</style>\n",
       "<table border=\"1\" class=\"dataframe\">\n",
       "  <thead>\n",
       "    <tr style=\"text-align: right;\">\n",
       "      <th></th>\n",
       "      <th>Open</th>\n",
       "      <th>High</th>\n",
       "      <th>Low</th>\n",
       "      <th>Volume</th>\n",
       "      <th>Month</th>\n",
       "      <th>Date</th>\n",
       "      <th>Day</th>\n",
       "      <th>Year</th>\n",
       "      <th>Price</th>\n",
       "      <th>Chg</th>\n",
       "    </tr>\n",
       "  </thead>\n",
       "  <tbody>\n",
       "    <tr>\n",
       "      <th>0</th>\n",
       "      <td>2,092.00</td>\n",
       "      <td>2,126.90</td>\n",
       "      <td>2,065.05</td>\n",
       "      <td>1670000</td>\n",
       "      <td>Jun</td>\n",
       "      <td>29</td>\n",
       "      <td>Tue</td>\n",
       "      <td>2021</td>\n",
       "      <td>2081.85</td>\n",
       "      <td>0.0020</td>\n",
       "    </tr>\n",
       "    <tr>\n",
       "      <th>1</th>\n",
       "      <td>2,084.00</td>\n",
       "      <td>2,112.45</td>\n",
       "      <td>2,068.40</td>\n",
       "      <td>707730</td>\n",
       "      <td>Jun</td>\n",
       "      <td>28</td>\n",
       "      <td>Mon</td>\n",
       "      <td>2021</td>\n",
       "      <td>2077.75</td>\n",
       "      <td>0.0043</td>\n",
       "    </tr>\n",
       "    <tr>\n",
       "      <th>2</th>\n",
       "      <td>2,084.35</td>\n",
       "      <td>2,088.50</td>\n",
       "      <td>2,053.10</td>\n",
       "      <td>475820</td>\n",
       "      <td>Jun</td>\n",
       "      <td>25</td>\n",
       "      <td>Fri</td>\n",
       "      <td>2021</td>\n",
       "      <td>2068.85</td>\n",
       "      <td>-0.0020</td>\n",
       "    </tr>\n",
       "    <tr>\n",
       "      <th>3</th>\n",
       "      <td>2,098.00</td>\n",
       "      <td>2,098.00</td>\n",
       "      <td>2,066.00</td>\n",
       "      <td>541510</td>\n",
       "      <td>Jun</td>\n",
       "      <td>24</td>\n",
       "      <td>Thu</td>\n",
       "      <td>2021</td>\n",
       "      <td>2072.95</td>\n",
       "      <td>-0.0026</td>\n",
       "    </tr>\n",
       "    <tr>\n",
       "      <th>4</th>\n",
       "      <td>2,102.00</td>\n",
       "      <td>2,111.40</td>\n",
       "      <td>2,072.00</td>\n",
       "      <td>809620</td>\n",
       "      <td>Jun</td>\n",
       "      <td>23</td>\n",
       "      <td>Wed</td>\n",
       "      <td>2021</td>\n",
       "      <td>2078.25</td>\n",
       "      <td>-0.0023</td>\n",
       "    </tr>\n",
       "    <tr>\n",
       "      <th>...</th>\n",
       "      <td>...</td>\n",
       "      <td>...</td>\n",
       "      <td>...</td>\n",
       "      <td>...</td>\n",
       "      <td>...</td>\n",
       "      <td>...</td>\n",
       "      <td>...</td>\n",
       "      <td>...</td>\n",
       "      <td>...</td>\n",
       "      <td>...</td>\n",
       "    </tr>\n",
       "    <tr>\n",
       "      <th>244</th>\n",
       "      <td>1,410.00</td>\n",
       "      <td>1,411.00</td>\n",
       "      <td>1,390.05</td>\n",
       "      <td>480210</td>\n",
       "      <td>Jul</td>\n",
       "      <td>7</td>\n",
       "      <td>Tue</td>\n",
       "      <td>2020</td>\n",
       "      <td>1397.40</td>\n",
       "      <td>-0.0024</td>\n",
       "    </tr>\n",
       "    <tr>\n",
       "      <th>245</th>\n",
       "      <td>1,405.50</td>\n",
       "      <td>1,415.50</td>\n",
       "      <td>1,394.00</td>\n",
       "      <td>614930</td>\n",
       "      <td>Jul</td>\n",
       "      <td>6</td>\n",
       "      <td>Mon</td>\n",
       "      <td>2020</td>\n",
       "      <td>1400.75</td>\n",
       "      <td>-0.0031</td>\n",
       "    </tr>\n",
       "    <tr>\n",
       "      <th>246</th>\n",
       "      <td>1,415.00</td>\n",
       "      <td>1,425.00</td>\n",
       "      <td>1,398.00</td>\n",
       "      <td>599490</td>\n",
       "      <td>Jul</td>\n",
       "      <td>3</td>\n",
       "      <td>Fri</td>\n",
       "      <td>2020</td>\n",
       "      <td>1405.10</td>\n",
       "      <td>-0.0051</td>\n",
       "    </tr>\n",
       "    <tr>\n",
       "      <th>247</th>\n",
       "      <td>1,440.00</td>\n",
       "      <td>1,467.80</td>\n",
       "      <td>1,395.30</td>\n",
       "      <td>2160000</td>\n",
       "      <td>Jul</td>\n",
       "      <td>2</td>\n",
       "      <td>Thu</td>\n",
       "      <td>2020</td>\n",
       "      <td>1412.35</td>\n",
       "      <td>0.0362</td>\n",
       "    </tr>\n",
       "    <tr>\n",
       "      <th>248</th>\n",
       "      <td>1,363.65</td>\n",
       "      <td>1,377.00</td>\n",
       "      <td>1,356.00</td>\n",
       "      <td>383000</td>\n",
       "      <td>Jul</td>\n",
       "      <td>1</td>\n",
       "      <td>Wed</td>\n",
       "      <td>2020</td>\n",
       "      <td>1363.05</td>\n",
       "      <td>0.0032</td>\n",
       "    </tr>\n",
       "  </tbody>\n",
       "</table>\n",
       "<p>249 rows × 10 columns</p>\n",
       "</div>"
      ],
      "text/plain": [
       "         Open      High       Low   Volume Month  Date  Day  Year    Price  \\\n",
       "0    2,092.00  2,126.90  2,065.05  1670000   Jun    29  Tue  2021  2081.85   \n",
       "1    2,084.00  2,112.45  2,068.40   707730   Jun    28  Mon  2021  2077.75   \n",
       "2    2,084.35  2,088.50  2,053.10   475820   Jun    25  Fri  2021  2068.85   \n",
       "3    2,098.00  2,098.00  2,066.00   541510   Jun    24  Thu  2021  2072.95   \n",
       "4    2,102.00  2,111.40  2,072.00   809620   Jun    23  Wed  2021  2078.25   \n",
       "..        ...       ...       ...      ...   ...   ...  ...   ...      ...   \n",
       "244  1,410.00  1,411.00  1,390.05   480210   Jul     7  Tue  2020  1397.40   \n",
       "245  1,405.50  1,415.50  1,394.00   614930   Jul     6  Mon  2020  1400.75   \n",
       "246  1,415.00  1,425.00  1,398.00   599490   Jul     3  Fri  2020  1405.10   \n",
       "247  1,440.00  1,467.80  1,395.30  2160000   Jul     2  Thu  2020  1412.35   \n",
       "248  1,363.65  1,377.00  1,356.00   383000   Jul     1  Wed  2020  1363.05   \n",
       "\n",
       "        Chg  \n",
       "0    0.0020  \n",
       "1    0.0043  \n",
       "2   -0.0020  \n",
       "3   -0.0026  \n",
       "4   -0.0023  \n",
       "..      ...  \n",
       "244 -0.0024  \n",
       "245 -0.0031  \n",
       "246 -0.0051  \n",
       "247  0.0362  \n",
       "248  0.0032  \n",
       "\n",
       "[249 rows x 10 columns]"
      ]
     },
     "execution_count": 97,
     "metadata": {},
     "output_type": "execute_result"
    }
   ],
   "source": [
    "irctc_data"
   ]
  },
  {
   "cell_type": "markdown",
   "id": "791d8722",
   "metadata": {},
   "source": [
    "### Probability of making a loss over stock using Change% is exactly 50% which means there are equal number of loss making and profit making days."
   ]
  },
  {
   "cell_type": "code",
   "execution_count": 13,
   "id": "8eff0070",
   "metadata": {},
   "outputs": [],
   "source": [
    "irctc_wed_chg = irctc_data.loc[irctc_data['Day'] == 'Wed', [False,False,False,False,False,False,False,False,True,True]]\n",
    "#Selecting the required columns by sending a list of bool values which indicate what columns to be selected"
   ]
  },
  {
   "cell_type": "code",
   "execution_count": 14,
   "id": "13b368f9",
   "metadata": {},
   "outputs": [
    {
     "data": {
      "text/html": [
       "<div>\n",
       "<style scoped>\n",
       "    .dataframe tbody tr th:only-of-type {\n",
       "        vertical-align: middle;\n",
       "    }\n",
       "\n",
       "    .dataframe tbody tr th {\n",
       "        vertical-align: top;\n",
       "    }\n",
       "\n",
       "    .dataframe thead th {\n",
       "        text-align: right;\n",
       "    }\n",
       "</style>\n",
       "<table border=\"1\" class=\"dataframe\">\n",
       "  <thead>\n",
       "    <tr style=\"text-align: right;\">\n",
       "      <th></th>\n",
       "      <th>Price</th>\n",
       "      <th>Chg</th>\n",
       "    </tr>\n",
       "  </thead>\n",
       "  <tbody>\n",
       "    <tr>\n",
       "      <th>4</th>\n",
       "      <td>2078.25</td>\n",
       "      <td>-0.0023</td>\n",
       "    </tr>\n",
       "    <tr>\n",
       "      <th>9</th>\n",
       "      <td>2089.95</td>\n",
       "      <td>-0.0038</td>\n",
       "    </tr>\n",
       "    <tr>\n",
       "      <th>14</th>\n",
       "      <td>2071.20</td>\n",
       "      <td>-0.0343</td>\n",
       "    </tr>\n",
       "    <tr>\n",
       "      <th>19</th>\n",
       "      <td>1917.95</td>\n",
       "      <td>0.0123</td>\n",
       "    </tr>\n",
       "    <tr>\n",
       "      <th>24</th>\n",
       "      <td>1894.05</td>\n",
       "      <td>-0.0073</td>\n",
       "    </tr>\n",
       "    <tr>\n",
       "      <th>29</th>\n",
       "      <td>1858.10</td>\n",
       "      <td>0.0126</td>\n",
       "    </tr>\n",
       "    <tr>\n",
       "      <th>33</th>\n",
       "      <td>1746.60</td>\n",
       "      <td>-0.0255</td>\n",
       "    </tr>\n",
       "    <tr>\n",
       "      <th>38</th>\n",
       "      <td>1723.65</td>\n",
       "      <td>-0.0263</td>\n",
       "    </tr>\n",
       "    <tr>\n",
       "      <th>43</th>\n",
       "      <td>1795.85</td>\n",
       "      <td>0.0015</td>\n",
       "    </tr>\n",
       "    <tr>\n",
       "      <th>56</th>\n",
       "      <td>1709.00</td>\n",
       "      <td>0.0121</td>\n",
       "    </tr>\n",
       "    <tr>\n",
       "      <th>60</th>\n",
       "      <td>1757.00</td>\n",
       "      <td>0.0010</td>\n",
       "    </tr>\n",
       "    <tr>\n",
       "      <th>64</th>\n",
       "      <td>1760.55</td>\n",
       "      <td>-0.0443</td>\n",
       "    </tr>\n",
       "    <tr>\n",
       "      <th>69</th>\n",
       "      <td>1824.00</td>\n",
       "      <td>-0.0420</td>\n",
       "    </tr>\n",
       "    <tr>\n",
       "      <th>73</th>\n",
       "      <td>2018.50</td>\n",
       "      <td>-0.0040</td>\n",
       "    </tr>\n",
       "    <tr>\n",
       "      <th>78</th>\n",
       "      <td>1886.10</td>\n",
       "      <td>-0.0061</td>\n",
       "    </tr>\n",
       "    <tr>\n",
       "      <th>83</th>\n",
       "      <td>1675.45</td>\n",
       "      <td>0.0261</td>\n",
       "    </tr>\n",
       "    <tr>\n",
       "      <th>88</th>\n",
       "      <td>1698.65</td>\n",
       "      <td>0.0146</td>\n",
       "    </tr>\n",
       "    <tr>\n",
       "      <th>93</th>\n",
       "      <td>1618.40</td>\n",
       "      <td>-0.0142</td>\n",
       "    </tr>\n",
       "    <tr>\n",
       "      <th>98</th>\n",
       "      <td>1469.35</td>\n",
       "      <td>-0.0008</td>\n",
       "    </tr>\n",
       "    <tr>\n",
       "      <th>103</th>\n",
       "      <td>1438.25</td>\n",
       "      <td>0.0084</td>\n",
       "    </tr>\n",
       "    <tr>\n",
       "      <th>107</th>\n",
       "      <td>1452.70</td>\n",
       "      <td>0.0064</td>\n",
       "    </tr>\n",
       "    <tr>\n",
       "      <th>112</th>\n",
       "      <td>1461.15</td>\n",
       "      <td>-0.0130</td>\n",
       "    </tr>\n",
       "    <tr>\n",
       "      <th>117</th>\n",
       "      <td>1483.45</td>\n",
       "      <td>0.0183</td>\n",
       "    </tr>\n",
       "    <tr>\n",
       "      <th>122</th>\n",
       "      <td>1434.95</td>\n",
       "      <td>0.0171</td>\n",
       "    </tr>\n",
       "    <tr>\n",
       "      <th>126</th>\n",
       "      <td>1411.55</td>\n",
       "      <td>0.0089</td>\n",
       "    </tr>\n",
       "    <tr>\n",
       "      <th>131</th>\n",
       "      <td>1423.40</td>\n",
       "      <td>-0.0122</td>\n",
       "    </tr>\n",
       "    <tr>\n",
       "      <th>136</th>\n",
       "      <td>1617.75</td>\n",
       "      <td>-0.0187</td>\n",
       "    </tr>\n",
       "    <tr>\n",
       "      <th>141</th>\n",
       "      <td>1349.90</td>\n",
       "      <td>-0.0060</td>\n",
       "    </tr>\n",
       "    <tr>\n",
       "      <th>145</th>\n",
       "      <td>1353.90</td>\n",
       "      <td>-0.0062</td>\n",
       "    </tr>\n",
       "    <tr>\n",
       "      <th>150</th>\n",
       "      <td>1365.30</td>\n",
       "      <td>-0.0109</td>\n",
       "    </tr>\n",
       "    <tr>\n",
       "      <th>154</th>\n",
       "      <td>1371.25</td>\n",
       "      <td>-0.0023</td>\n",
       "    </tr>\n",
       "    <tr>\n",
       "      <th>159</th>\n",
       "      <td>1300.55</td>\n",
       "      <td>-0.0007</td>\n",
       "    </tr>\n",
       "    <tr>\n",
       "      <th>164</th>\n",
       "      <td>1333.35</td>\n",
       "      <td>0.0055</td>\n",
       "    </tr>\n",
       "    <tr>\n",
       "      <th>169</th>\n",
       "      <td>1331.75</td>\n",
       "      <td>-0.0003</td>\n",
       "    </tr>\n",
       "    <tr>\n",
       "      <th>174</th>\n",
       "      <td>1338.05</td>\n",
       "      <td>0.0012</td>\n",
       "    </tr>\n",
       "    <tr>\n",
       "      <th>179</th>\n",
       "      <td>1356.90</td>\n",
       "      <td>-0.0051</td>\n",
       "    </tr>\n",
       "    <tr>\n",
       "      <th>183</th>\n",
       "      <td>1384.00</td>\n",
       "      <td>0.0005</td>\n",
       "    </tr>\n",
       "    <tr>\n",
       "      <th>188</th>\n",
       "      <td>1372.85</td>\n",
       "      <td>0.0127</td>\n",
       "    </tr>\n",
       "    <tr>\n",
       "      <th>193</th>\n",
       "      <td>1367.40</td>\n",
       "      <td>-0.0018</td>\n",
       "    </tr>\n",
       "    <tr>\n",
       "      <th>198</th>\n",
       "      <td>1348.90</td>\n",
       "      <td>-0.0221</td>\n",
       "    </tr>\n",
       "    <tr>\n",
       "      <th>203</th>\n",
       "      <td>1359.75</td>\n",
       "      <td>0.0061</td>\n",
       "    </tr>\n",
       "    <tr>\n",
       "      <th>208</th>\n",
       "      <td>1369.30</td>\n",
       "      <td>0.0205</td>\n",
       "    </tr>\n",
       "    <tr>\n",
       "      <th>213</th>\n",
       "      <td>1361.80</td>\n",
       "      <td>-0.0115</td>\n",
       "    </tr>\n",
       "    <tr>\n",
       "      <th>218</th>\n",
       "      <td>1386.80</td>\n",
       "      <td>0.0108</td>\n",
       "    </tr>\n",
       "    <tr>\n",
       "      <th>223</th>\n",
       "      <td>1336.95</td>\n",
       "      <td>-0.0021</td>\n",
       "    </tr>\n",
       "    <tr>\n",
       "      <th>228</th>\n",
       "      <td>1352.75</td>\n",
       "      <td>0.0054</td>\n",
       "    </tr>\n",
       "    <tr>\n",
       "      <th>233</th>\n",
       "      <td>1372.95</td>\n",
       "      <td>-0.0124</td>\n",
       "    </tr>\n",
       "    <tr>\n",
       "      <th>238</th>\n",
       "      <td>1351.95</td>\n",
       "      <td>-0.0075</td>\n",
       "    </tr>\n",
       "    <tr>\n",
       "      <th>243</th>\n",
       "      <td>1390.10</td>\n",
       "      <td>-0.0052</td>\n",
       "    </tr>\n",
       "    <tr>\n",
       "      <th>248</th>\n",
       "      <td>1363.05</td>\n",
       "      <td>0.0032</td>\n",
       "    </tr>\n",
       "  </tbody>\n",
       "</table>\n",
       "</div>"
      ],
      "text/plain": [
       "       Price     Chg\n",
       "4    2078.25 -0.0023\n",
       "9    2089.95 -0.0038\n",
       "14   2071.20 -0.0343\n",
       "19   1917.95  0.0123\n",
       "24   1894.05 -0.0073\n",
       "29   1858.10  0.0126\n",
       "33   1746.60 -0.0255\n",
       "38   1723.65 -0.0263\n",
       "43   1795.85  0.0015\n",
       "56   1709.00  0.0121\n",
       "60   1757.00  0.0010\n",
       "64   1760.55 -0.0443\n",
       "69   1824.00 -0.0420\n",
       "73   2018.50 -0.0040\n",
       "78   1886.10 -0.0061\n",
       "83   1675.45  0.0261\n",
       "88   1698.65  0.0146\n",
       "93   1618.40 -0.0142\n",
       "98   1469.35 -0.0008\n",
       "103  1438.25  0.0084\n",
       "107  1452.70  0.0064\n",
       "112  1461.15 -0.0130\n",
       "117  1483.45  0.0183\n",
       "122  1434.95  0.0171\n",
       "126  1411.55  0.0089\n",
       "131  1423.40 -0.0122\n",
       "136  1617.75 -0.0187\n",
       "141  1349.90 -0.0060\n",
       "145  1353.90 -0.0062\n",
       "150  1365.30 -0.0109\n",
       "154  1371.25 -0.0023\n",
       "159  1300.55 -0.0007\n",
       "164  1333.35  0.0055\n",
       "169  1331.75 -0.0003\n",
       "174  1338.05  0.0012\n",
       "179  1356.90 -0.0051\n",
       "183  1384.00  0.0005\n",
       "188  1372.85  0.0127\n",
       "193  1367.40 -0.0018\n",
       "198  1348.90 -0.0221\n",
       "203  1359.75  0.0061\n",
       "208  1369.30  0.0205\n",
       "213  1361.80 -0.0115\n",
       "218  1386.80  0.0108\n",
       "223  1336.95 -0.0021\n",
       "228  1352.75  0.0054\n",
       "233  1372.95 -0.0124\n",
       "238  1351.95 -0.0075\n",
       "243  1390.10 -0.0052\n",
       "248  1363.05  0.0032"
      ]
     },
     "execution_count": 14,
     "metadata": {},
     "output_type": "execute_result"
    }
   ],
   "source": [
    "irctc_wed_chg"
   ]
  },
  {
   "cell_type": "code",
   "execution_count": 19,
   "id": "a3baa108",
   "metadata": {},
   "outputs": [
    {
     "name": "stdout",
     "output_type": "stream",
     "text": [
      "29\n",
      "21\n"
     ]
    }
   ],
   "source": [
    "count_neg = irctc_wed_chg['Chg'].lt(0).sum()\n",
    "count_pos = irctc_wed_chg['Chg'].gt(0).sum()\n",
    "print(count_neg)\n",
    "print(count_pos)"
   ]
  },
  {
   "cell_type": "code",
   "execution_count": 38,
   "id": "b33a5363",
   "metadata": {},
   "outputs": [
    {
     "name": "stdout",
     "output_type": "stream",
     "text": [
      "0.58\n",
      "0.08433734939759036\n"
     ]
    }
   ],
   "source": [
    "loss_percentage = (count_neg)/(count_neg+count_pos)\n",
    "print(loss_percentage)\n",
    "profit_percentage = 21/249\n",
    "print(profit_percentage)"
   ]
  },
  {
   "cell_type": "code",
   "execution_count": 37,
   "id": "3de5bc5f",
   "metadata": {},
   "outputs": [
    {
     "name": "stdout",
     "output_type": "stream",
     "text": [
      "Probability of making profit, given that today is Wednesday is:  0.42\n"
     ]
    }
   ],
   "source": [
    "#P(A/B)=P(AnB)/P(B)\n",
    "#P(profit/wed)=0.42/p(wed)\n",
    "profit_conditional=21/(50)\n",
    "print(\"Probability of making profit, given that today is Wednesday is: \",profit_conditional)"
   ]
  },
  {
   "cell_type": "markdown",
   "id": "5a852b93",
   "metadata": {},
   "source": [
    "### Probability of making profit, given that today is Wednesday is:  0.42"
   ]
  },
  {
   "cell_type": "markdown",
   "id": "6f51e59b",
   "metadata": {},
   "source": [
    "### Porbability of making a profit on wednesday is 8.4%"
   ]
  },
  {
   "cell_type": "code",
   "execution_count": 104,
   "id": "4b660f63",
   "metadata": {},
   "outputs": [
    {
     "data": {
      "text/plain": [
       "<AxesSubplot:xlabel='Chg', ylabel='Day'>"
      ]
     },
     "execution_count": 104,
     "metadata": {},
     "output_type": "execute_result"
    },
    {
     "data": {
      "image/png": "[encoded data removed]",
      "text/plain": [
       "<Figure size 432x288 with 1 Axes>"
      ]
     },
     "metadata": {
      "needs_background": "light"
     },
     "output_type": "display_data"
    }
   ],
   "source": [
    "irctc_data.plot.scatter(x='Chg',y='Day')"
   ]
  },
  {
   "cell_type": "markdown",
   "id": "f13786fe",
   "metadata": {},
   "source": [
    "### Scatter plot of Chg% vs Day in the dataframe"
   ]
  },
  {
   "cell_type": "markdown",
   "id": "4b55f26d",
   "metadata": {},
   "source": [
    "# Report Assignment"
   ]
  },
  {
   "cell_type": "markdown",
   "id": "0b593f23",
   "metadata": {},
   "source": [
    "#### 1) Rank of a matrix helps in knowing the dimensionality of the data we are dealing with and also helps in creating the features list which we need to feed into the model, if rank of matrix is lesser than the min(row,col) then it can be inferred that we can further reduce the dimensionality and make it easier for our model to predict."
   ]
  },
  {
   "cell_type": "markdown",
   "id": "cd442747",
   "metadata": {},
   "source": [
    "#### 2) A2 is a Regression problem as we have continous values to predict which we have done by calculating the value of X=(A^-1).(C) and we recieve the answer in an array telling us the X,Y,Z values correcponding to the data which we have given.\n",
    "#### A3 is a Classification problem as we have encoded the values of last column as \"RICH\" or \"POOR\" and we are predicting that column based on the features list (or) other columns, we use logistic regression to help us predict the values and due to a small dataset and limited hyperparameter tuning we do not get high accuracy in our model."
   ]
  },
  {
   "cell_type": "markdown",
   "id": "047f3bc0",
   "metadata": {},
   "source": [
    "#### 3) We can use a simple ANN for predicting the price and change% as most ML models work on existing curves to predict new values, such as Linear or Polynomial use only Linear lines to predict data and polynomial lines, but if our data is prone to changes and we need to see patterns then using a simple ANN with 2-3 Hidden layers and ReLU activation we can better predict the data."
   ]
  },
  {
   "cell_type": "code",
   "execution_count": 29,
   "id": "a6be895d",
   "metadata": {},
   "outputs": [],
   "source": [
    "correlation_matrix0 = np.corrcoef(features_array[:,0], target_array[:,0])\n",
    "# def generate_correlation_map(x, y):\n",
    "#     mu_x = x.mean(1)\n",
    "#     mu_y = y.mean(1)\n",
    "#     n = x.shape[1]\n",
    "#     if n != y.shape[1]:\n",
    "#         raise ValueError('x and y must ' +\n",
    "#                          'have the same number of timepoints.')\n",
    "#     s_x = x.std(1, ddof=n - 1)\n",
    "#     s_y = y.std(1, ddof=n - 1)\n",
    "#     cov = np.dot(x,\n",
    "#                  y.T) - n * np.dot(mu_x[:, np.newaxis],\n",
    "#                                   mu_y[np.newaxis, :])\n",
    "#     return cov / np.dot(s_x[:, np.newaxis], s_y[np.newaxis, :])\n",
    "# correlation_matrix = generate_correlation_map(features_array, target_array)\n",
    "# print(correlation_matrix)"
   ]
  },
  {
   "cell_type": "code",
   "execution_count": 30,
   "id": "1cdeaeb5",
   "metadata": {},
   "outputs": [
    {
     "name": "stdout",
     "output_type": "stream",
     "text": [
      "[[1.         0.27258753]\n",
      " [0.27258753 1.        ]]\n"
     ]
    }
   ],
   "source": [
    "print(correlation_matrix0)"
   ]
  },
  {
   "cell_type": "code",
   "execution_count": 31,
   "id": "853471a3",
   "metadata": {},
   "outputs": [],
   "source": [
    "correlation_matrix1 = np.corrcoef(features_array[:,1], target_array[:,0])"
   ]
  },
  {
   "cell_type": "code",
   "execution_count": 32,
   "id": "f70f2ac3",
   "metadata": {},
   "outputs": [
    {
     "name": "stdout",
     "output_type": "stream",
     "text": [
      "[[1.         0.97070182]\n",
      " [0.97070182 1.        ]]\n"
     ]
    }
   ],
   "source": [
    "print(correlation_matrix1)"
   ]
  },
  {
   "cell_type": "code",
   "execution_count": 33,
   "id": "34df4845",
   "metadata": {},
   "outputs": [],
   "source": [
    "correlation_matrix2 = np.corrcoef(features_array[:,2], target_array[:,0])"
   ]
  },
  {
   "cell_type": "code",
   "execution_count": 34,
   "id": "35e4e3d0",
   "metadata": {},
   "outputs": [
    {
     "name": "stdout",
     "output_type": "stream",
     "text": [
      "[[ 1.         -0.31984528]\n",
      " [-0.31984528  1.        ]]\n"
     ]
    }
   ],
   "source": [
    "print(correlation_matrix2)"
   ]
  },
  {
   "cell_type": "code",
   "execution_count": null,
   "id": "b1bb9d04",
   "metadata": {},
   "outputs": [],
   "source": []
  }
 ],
 "metadata": {
  "kernelspec": {
   "display_name": "Python 3 (ipykernel)",
   "language": "python",
   "name": "python3"
  },
  "language_info": {
   "codemirror_mode": {
    "name": "ipython",
    "version": 3
   },
   "file_extension": ".py",
   "mimetype": "text/x-python",
   "name": "python",
   "nbconvert_exporter": "python",
   "pygments_lexer": "ipython3",
   "version": "3.9.13"
  }
 },
 "nbformat": 4,
 "nbformat_minor": 5
}
